{
 "cells": [
  {
   "cell_type": "markdown",
   "metadata": {},
   "source": [
    "# Object-Oriented-Programming (OOP)"
   ]
  },
  {
   "cell_type": "markdown",
   "metadata": {},
   "source": [
    "## Tasks Today:\n",
    "\n",
    "   \n",
    "\n",
    "1) <b>Creating a Class (Initializing/Declaring)</b> <br>\n",
    "2) <b>Using a Class (Instantiating)</b> <br>\n",
    " &nbsp;&nbsp;&nbsp;&nbsp; a) Creating One Instance <br>\n",
    " &nbsp;&nbsp;&nbsp;&nbsp; b) Creating Multiple Instances <br>\n",
    " &nbsp;&nbsp;&nbsp;&nbsp; c) In-Class Exercise #1 - Create a Class 'Car' and instantiate three different makes of cars <br>\n",
    "3) <b>The \\__init\\__() Method</b> <br>\n",
    " &nbsp;&nbsp;&nbsp;&nbsp; a) The 'self' Attribute <br>\n",
    "4) <b>Class Attributes</b> <br>\n",
    " &nbsp;&nbsp;&nbsp;&nbsp; a) Initializing Attributes <br>\n",
    " &nbsp;&nbsp;&nbsp;&nbsp; b) Setting an Attribute Outside of the \\__init\\__() Method <br>\n",
    " &nbsp;&nbsp;&nbsp;&nbsp; c) Setting Defaults for Attributes <br>\n",
    " &nbsp;&nbsp;&nbsp;&nbsp; d) Accessing Class Attributes <br>\n",
    " &nbsp;&nbsp;&nbsp;&nbsp; e) Changing Class Attributes <br>\n",
    " &nbsp;&nbsp;&nbsp;&nbsp; f) In-Class Exercise #2 - Add a color and wheels attribute to your 'Car' class <br>\n",
    "5) <b>Class Methods</b> <br>\n",
    " &nbsp;&nbsp;&nbsp;&nbsp; a) Creating <br>\n",
    " &nbsp;&nbsp;&nbsp;&nbsp; b) Calling <br>\n",
    " &nbsp;&nbsp;&nbsp;&nbsp; c) Modifying an Attribute's Value Through a Method <br>\n",
    " &nbsp;&nbsp;&nbsp;&nbsp; d) Incrementing an Attribute's Value Through a Method <br>\n",
    " &nbsp;&nbsp;&nbsp;&nbsp; e) In-Class Exercise #3 - Add a method that prints the cars color and wheel number, then call them <br>\n",
    "6) <b>Inheritance</b> <br>\n",
    " &nbsp;&nbsp;&nbsp;&nbsp; a) Syntax for Inheriting from a Parent Class <br>\n",
    " &nbsp;&nbsp;&nbsp;&nbsp; b) The \\__init\\__() Method for a Child Class (super()) <br>\n",
    " &nbsp;&nbsp;&nbsp;&nbsp; c) Defining Attributes and Methods for the Child Class <br>\n",
    " &nbsp;&nbsp;&nbsp;&nbsp; d) Method Overriding <br>\n",
    " &nbsp;&nbsp;&nbsp;&nbsp; e) In-Class Exercise #4 - Create a class 'Ford' that inherits from 'Car' class and initialize it as a Blue Ford Explorer with 4 wheels using the super() method <br>\n",
    "7) <b>Classes as Attributes</b> <br>\n",
    "8) <b>Exercises</b> <br>\n",
    " &nbsp;&nbsp;&nbsp;&nbsp; a) Exercise #1 - Turn the shopping cart program from yesterday into an object-oriented program <br>"
   ]
  },
  {
   "cell_type": "markdown",
   "metadata": {},
   "source": [
    "## Creating a Class (Initializing/Declaring)\n",
    "<p>When creating a class, function, or even a variable you are initializing that object. Initializing and Declaring occur at the same time in Python, whereas in lower level languages you have to declare an object before initializing it. This is the first step in the process of using a class.</p>"
   ]
  },
  {
   "cell_type": "code",
   "execution_count": 2,
   "metadata": {},
   "outputs": [],
   "source": [
    "class Car():\n",
    "    wheels = 4\n",
    "    color = 'blue'"
   ]
  },
  {
   "cell_type": "markdown",
   "metadata": {},
   "source": [
    "## Using a Class (Instantiating)\n",
    "<p>The process of creating a class is called <i>Instantiating</i>. Each time you create a variable of that type of class, it is referred to as an <i>Instance</i> of that class. This is the second step in the process of using a class.</p>"
   ]
  },
  {
   "cell_type": "markdown",
   "metadata": {},
   "source": [
    "##### Creating One Instance"
   ]
  },
  {
   "cell_type": "code",
   "execution_count": 4,
   "metadata": {},
   "outputs": [
    {
     "name": "stdout",
     "output_type": "stream",
     "text": [
      "blue\n"
     ]
    }
   ],
   "source": [
    "ford = Car()\n",
    "print(ford.color)"
   ]
  },
  {
   "cell_type": "markdown",
   "metadata": {},
   "source": [
    "##### Creating Multiple Instances"
   ]
  },
  {
   "cell_type": "code",
   "execution_count": 6,
   "metadata": {},
   "outputs": [
    {
     "name": "stdout",
     "output_type": "stream",
     "text": [
      "<class 'int'>\n"
     ]
    }
   ],
   "source": [
    "honda = Car()\n",
    "chevrolet = Car()\n",
    "porsche = Car()\n",
    "\n",
    "print(type(porsche.wheels))\n",
    "# if you run print(honda.horn) for example you will throw an error"
   ]
  },
  {
   "cell_type": "markdown",
   "metadata": {},
   "source": [
    "##### In-Class Exercise #1 - Create a Class 'Car' and Instantiate three different makes of cars"
   ]
  },
  {
   "cell_type": "code",
   "execution_count": 9,
   "metadata": {},
   "outputs": [
    {
     "name": "stdout",
     "output_type": "stream",
     "text": [
      "smooth\n"
     ]
    }
   ],
   "source": [
    "class Car:\n",
    "    wheels = 4\n",
    "    ride = 'smooth'\n",
    "    color = 'Black'\n",
    "    condition = 'Clean'\n",
    "\n",
    "mazda = Car()\n",
    "volkswagen = Car()\n",
    "mercedez_benz = Car()\n",
    "\n",
    "print(volkswagen.ride)"
   ]
  },
  {
   "cell_type": "markdown",
   "metadata": {},
   "source": [
    "## The \\__init\\__() Method <br>\n",
    "<p>This method is used in almost every created class, and called only once upon the creation of the class instance. This method will initialize all variables needed for the object.</p>"
   ]
  },
  {
   "cell_type": "code",
   "execution_count": 17,
   "metadata": {},
   "outputs": [
    {
     "name": "stdout",
     "output_type": "stream",
     "text": [
      "rocket\n",
      "4.7L\n",
      "4.7L\n",
      "{'wheels': 8, 'color': 'blue'}\n",
      "{'__module__': '__main__', 'engine': '4.7L', '__init__': <function Car.__init__ at 0x7fcb38782e50>, '__dict__': <attribute '__dict__' of 'Car' objects>, '__weakref__': <attribute '__weakref__' of 'Car' objects>, '__doc__': None}\n"
     ]
    }
   ],
   "source": [
    "class Car():\n",
    "    engine = '4.7L' #constant attribute\n",
    "    \n",
    "    def __init__(self, color, wheels):\n",
    "        self.wheels = wheels\n",
    "        self.color = color\n",
    "        \n",
    "chevy = Car('red', 4)\n",
    "ford = Car('blue', 8)\n",
    "tesla = Car('white', 'rocket')\n",
    "\n",
    "print(tesla.wheels)\n",
    "print(chevy.engine)\n",
    "\n",
    "print(Car.engine)\n",
    "print(ford.__dict__)\n",
    "print(Car.__dict__)"
   ]
  },
  {
   "cell_type": "markdown",
   "metadata": {},
   "source": [
    "##### The 'self' Attribute <br>\n",
    "<p>This attribute is required to keep track of specific instance's attributes. Without the self attribute, the program would not know how to reference or keep track of an instance's attributes.</p>"
   ]
  },
  {
   "cell_type": "code",
   "execution_count": null,
   "metadata": {},
   "outputs": [],
   "source": [
    "# see above"
   ]
  },
  {
   "cell_type": "markdown",
   "metadata": {},
   "source": [
    "## Class Attributes <br>\n",
    "<p>While variables are inside of a class, they are referred to as attributes and not variables. When someone says 'attribute' you know they're speaking about a class. Attributes can be initialized through the init method, or outside of it.</p>"
   ]
  },
  {
   "cell_type": "markdown",
   "metadata": {},
   "source": [
    "##### Initializing Attributes"
   ]
  },
  {
   "cell_type": "code",
   "execution_count": 19,
   "metadata": {},
   "outputs": [],
   "source": [
    "# see above\n",
    "\n",
    "class Toy():\n",
    "    kind = 'car' # doesn't change frequently\n",
    "    \n",
    "    def __init__(self, color, cool_factor, decal):\n",
    "        self.color = color\n",
    "        self.cool_factor = cool_factor\n",
    "        self.decal = decal\n",
    "        \n",
    "tonka_truck = Toy('yellow', 10, 'racing stripes')\n",
    "hotwheels_car = Toy('red', 10, 'flames')"
   ]
  },
  {
   "cell_type": "markdown",
   "metadata": {},
   "source": [
    "##### Accessing Class Attributes"
   ]
  },
  {
   "cell_type": "code",
   "execution_count": 20,
   "metadata": {
    "scrolled": true
   },
   "outputs": [
    {
     "name": "stdout",
     "output_type": "stream",
     "text": [
      "racing stripes\n"
     ]
    }
   ],
   "source": [
    "# See Above\n",
    "\n",
    "print(tonka_truck.decal)"
   ]
  },
  {
   "cell_type": "markdown",
   "metadata": {},
   "source": [
    "##### Setting Defaults for Attributes"
   ]
  },
  {
   "cell_type": "code",
   "execution_count": 28,
   "metadata": {},
   "outputs": [
    {
     "name": "stdout",
     "output_type": "stream",
     "text": [
      "Blue\n",
      "False\n",
      "4.7L\n"
     ]
    }
   ],
   "source": [
    "class Car():\n",
    "    engine = '4.7L'\n",
    "    \n",
    "    def __init__(self, wheels):\n",
    "        self.wheels =  wheels\n",
    "        self.color = 'Blue' #default attribute\n",
    "        \n",
    "jeep = Car(4)\n",
    "honda = Car(3)\n",
    "print(jeep.color)\n",
    "print(honda.color == 'Red')\n",
    "print(jeep.engine)"
   ]
  },
  {
   "cell_type": "markdown",
   "metadata": {},
   "source": [
    "##### Changing Class Attributes <br>\n",
    "<p>Keep in mind there are global class attributes and then there are attributes only available to each class instance which won't effect other classes.</p>"
   ]
  },
  {
   "cell_type": "code",
   "execution_count": 30,
   "metadata": {},
   "outputs": [
    {
     "name": "stdout",
     "output_type": "stream",
     "text": [
      "Before change: 4.7L\n",
      "\n",
      " After Change: 5.1L\n"
     ]
    }
   ],
   "source": [
    "#Changing the default attribute for this example:\n",
    "print(f'Before change: {jeep.engine}')\n",
    "\n",
    "jeep.engine = '5.1L'\n",
    "\n",
    "print(f'\\n After Change: {jeep.engine}')"
   ]
  },
  {
   "cell_type": "code",
   "execution_count": null,
   "metadata": {},
   "outputs": [],
   "source": []
  },
  {
   "cell_type": "markdown",
   "metadata": {},
   "source": [
    "##### In-Class Exercise #2 - Add a doors and seats attribute to your 'Car' class then print out two different instances with different doors and seats"
   ]
  },
  {
   "cell_type": "code",
   "execution_count": 34,
   "metadata": {},
   "outputs": [
    {
     "name": "stdout",
     "output_type": "stream",
     "text": [
      "{'wheels': 4, 'doors': 2, 'seats': 2}\n",
      "{'wheels': 4, 'doors': 4, 'seats': 4}\n"
     ]
    }
   ],
   "source": [
    "class Car():\n",
    "    engine = '4.7L'\n",
    "    \n",
    "    def __init__(self, wheels, doors, seats, color = 'Blue'):\n",
    "        self.wheels = wheels\n",
    "        self.doors = doors\n",
    "        self.seats = seats\n",
    "        \n",
    "toyota = Car(4, 2, 2, color = 'Red')\n",
    "renault = Car(4, 4, 4)\n",
    "\n",
    "print(toyota.__dict__)\n",
    "print(renault.__dict__)"
   ]
  },
  {
   "cell_type": "markdown",
   "metadata": {},
   "source": [
    "## Class Methods <br>\n",
    "<p>While inside of a class, functions are referred to as 'methods'. If you hear someone mention methods, they're speaking about classes. Methods are essentially functions, but only callable on the instances of a class.</p>"
   ]
  },
  {
   "cell_type": "markdown",
   "metadata": {},
   "source": [
    "##### Creating"
   ]
  },
  {
   "cell_type": "code",
   "execution_count": 55,
   "metadata": {},
   "outputs": [],
   "source": [
    "class Shopping_Bag():\n",
    "    '''\n",
    "        The Shopping_Bag Class will have handles, capacity, and items\n",
    "        to place inside.\n",
    "        \n",
    "        Attributes for the class:\n",
    "        - handles: expected to be an integer\n",
    "        - capacity: expected to be an integer or string\n",
    "        - items: expected to be a list\n",
    "    '''\n",
    "    \n",
    "    def __init__(self, handles, capacity, items):\n",
    "        self.handles = handles\n",
    "        self.capacity = capacity\n",
    "        self.items = items\n",
    "        \n",
    "    # Method will show the Shopping_Bag\n",
    "    \n",
    "    def show_Shopping_Bag(self):\n",
    "        if self.items == []:\n",
    "            print('Your bag is empty.')\n",
    "        else:\n",
    "            item_number = len(self.items)\n",
    "            print(f'You have {item_number} items in your bag.')\n",
    "            for i in self.items:\n",
    "                print(i)\n",
    "            \n",
    "    # Show Capacity\n",
    "    \n",
    "    def capacity_of_Shopping_Bag(self):\n",
    "        print(f'Your capacity is {self.capacity}')\n",
    "        \n",
    "    #add items to the items list\n",
    "    \n",
    "    def add_stuff(self):\n",
    "        item_number = len(self.items)\n",
    "        if item_number >= 10:\n",
    "            print('Your bag is full.')\n",
    "        else:\n",
    "            product = input('What would you like to add? ')\n",
    "            self.items.append(product)\n",
    "        \n",
    "    # Change the capacity of the shopping bag\n",
    "    \n",
    "    def change_bag_capacity(self, capacity):\n",
    "        self.capacity = capacity\n",
    "        \n",
    "    # Increase the capacity of the Shopping Bag by default of 10\n",
    "    \n",
    "    def increase_capacity(self, changed_capacity = 10):\n",
    "        if self.capacity == isinstance(self.capacity, str):\n",
    "            print('We cannot do that here.')\n",
    "        else:\n",
    "            self.capacity += changed_capacity\n",
    "    "
   ]
  },
  {
   "cell_type": "markdown",
   "metadata": {},
   "source": [
    "##### Calling"
   ]
  },
  {
   "cell_type": "code",
   "execution_count": 57,
   "metadata": {},
   "outputs": [
    {
     "name": "stdout",
     "output_type": "stream",
     "text": [
      "What do you want to do? add/show/quit add\n",
      "What would you like to add? a\n",
      "What do you want to do? add/show/quit add\n",
      "What would you like to add? s\n",
      "What do you want to do? add/show/quit add\n",
      "What would you like to add? d\n",
      "What do you want to do? add/show/quit add\n",
      "What would you like to add? f\n",
      "What do you want to do? add/show/quit add\n",
      "What would you like to add? g\n",
      "What do you want to do? add/show/quit add\n",
      "What would you like to add? h\n",
      "What do you want to do? add/show/quit add\n",
      "What would you like to add? j\n",
      "What do you want to do? add/show/quit add\n",
      "What would you like to add? k\n",
      "What do you want to do? add/show/quit add\n",
      "What would you like to add? l\n",
      "What do you want to do? add/show/quit add\n",
      "What would you like to add? q\n",
      "What do you want to do? add/show/quit add\n",
      "What would you like to add? w\n",
      "What do you want to do? add/show/quit add\n",
      "What would you like to add? e\n",
      "What do you want to do? add/show/quit add\n",
      "What would you like to add? r\n",
      "What do you want to do? add/show/quit add\n",
      "What would you like to add? r\n",
      "What do you want to do? add/show/quit add\n",
      "What would you like to add? 6\n",
      "What do you want to do? add/show/quit add\n",
      "What would you like to add? h\n",
      "What do you want to do? add/show/quit show\n",
      "Your bag is full.\n",
      "What do you want to do? add/show/quit quit\n",
      "Your bag is full.\n",
      "Thanks for shopping!\n"
     ]
    }
   ],
   "source": [
    "# See Above\n",
    "\n",
    "aldi_bag = Shopping_Bag(2, 10, [])\n",
    "\n",
    "#Create a function around the shopping bag\n",
    "\n",
    "def run():\n",
    "    while True:\n",
    "        response = input('What do you want to do? add/show/quit ')\n",
    "        \n",
    "        if response.lower() == 'quit':\n",
    "            aldi_bag.show_Shopping_Bag()\n",
    "            print('Thanks for shopping!')\n",
    "            break\n",
    "        elif response.lower() == 'add':\n",
    "            aldi_bag.add_stuff()\n",
    "        elif response.lower() == 'show':\n",
    "            aldi_bag.show_Shopping_Bag()\n",
    "        else:\n",
    "            print('That will not work here.')\n",
    "            \n",
    "run()"
   ]
  },
  {
   "cell_type": "markdown",
   "metadata": {},
   "source": [
    "##### Modifying an Attribute's Value Through a Method"
   ]
  },
  {
   "cell_type": "code",
   "execution_count": 58,
   "metadata": {},
   "outputs": [
    {
     "name": "stdout",
     "output_type": "stream",
     "text": [
      "Your capacity is 10\n",
      "capacity AFTER the change...\n",
      "Your capacity is 50\n"
     ]
    }
   ],
   "source": [
    "# show capacity\n",
    "aldi_bag.capacity_of_Shopping_Bag()\n",
    "print('capacity AFTER the change...')\n",
    "aldi_bag.change_bag_capacity(50)\n",
    "aldi_bag.capacity_of_Shopping_Bag()\n"
   ]
  },
  {
   "cell_type": "markdown",
   "metadata": {},
   "source": [
    "##### Incrementing an Attribute's Value Through a Method"
   ]
  },
  {
   "cell_type": "code",
   "execution_count": 59,
   "metadata": {},
   "outputs": [
    {
     "name": "stdout",
     "output_type": "stream",
     "text": [
      "Your capacity is 50\n",
      "after increase\n",
      "Your capacity is 60\n"
     ]
    }
   ],
   "source": [
    "aldi_bag.capacity_of_Shopping_Bag()\n",
    "print('after increase')\n",
    "aldi_bag.increase_capacity()\n",
    "aldi_bag.capacity_of_Shopping_Bag()"
   ]
  },
  {
   "cell_type": "markdown",
   "metadata": {},
   "source": [
    "##### In-Class Exercise #3 - Add a method that takes in three parameters of year, doors and seats and prints out a formatted print statement with make, model, year, seats, and doors"
   ]
  },
  {
   "cell_type": "code",
   "execution_count": 86,
   "metadata": {},
   "outputs": [
    {
     "name": "stdout",
     "output_type": "stream",
     "text": [
      "This car is from 2019 and is a Ford Explorer and has 4 doors and 5 seats.\n"
     ]
    }
   ],
   "source": [
    "# Create class with 2 paramters inside of the __init__ which are make and model\n",
    "\n",
    "# Inside of the Car class create a method that has 4 parameter in total (self,year,door,seats)\n",
    "\n",
    "# Output: This car is from 2019 and is a Ford Expolorer and has 4 doors and 5 seats\n",
    "\n",
    "# class Car():\n",
    "    \n",
    "#     def __init__(self, model, make):\n",
    "#         self.model = model\n",
    "#         self.make = make\n",
    "    \n",
    "#     def let_us_print(self, year, door, seats):\n",
    "#         print(f'This car is from {year} and is a {self.make} {self.model} and has {door} doors and {seats} seats.')\n",
    "        \n",
    "# printout = Car('Ford', 'Explorer')\n",
    "# printout.let_us_print('2019', '4', '5')\n",
    "\n",
    "class Car():\n",
    "    \n",
    "    def __init__(self, year, door, seats):\n",
    "        self.year = year\n",
    "        self.door = door\n",
    "        self.seats = seats\n",
    "    \n",
    "    def let_us_print(self, make, model):\n",
    "        print(f'This car is from {self.year} and is a {make} {model} and has {self.door} doors and {self.seats} seats.')\n",
    "        \n",
    "printout = Car('2019', '4', '5')\n",
    "printout.let_us_print('Ford', 'Explorer')\n"
   ]
  },
  {
   "cell_type": "markdown",
   "metadata": {},
   "source": [
    "## Inheritance <br>\n",
    "<p>You can create a child-parent relationship between two classes by using inheritance. What this allows you to do is have overriding methods, but also inherit traits from the parent class. Think of it as an actual parent and child, the child will inherit the parent's genes, as will the classes in OOP</p>"
   ]
  },
  {
   "cell_type": "markdown",
   "metadata": {},
   "source": [
    "##### Syntax for Inheriting from a Parent Class"
   ]
  },
  {
   "cell_type": "code",
   "execution_count": null,
   "metadata": {},
   "outputs": [],
   "source": []
  },
  {
   "cell_type": "markdown",
   "metadata": {},
   "source": [
    "##### The \\__init\\__() Method for a Child Class - super()"
   ]
  },
  {
   "cell_type": "code",
   "execution_count": null,
   "metadata": {
    "scrolled": true
   },
   "outputs": [],
   "source": []
  },
  {
   "cell_type": "markdown",
   "metadata": {},
   "source": [
    "##### Defining Attributes and Methods for the Child Class"
   ]
  },
  {
   "cell_type": "code",
   "execution_count": null,
   "metadata": {},
   "outputs": [],
   "source": [
    "# See Above"
   ]
  },
  {
   "cell_type": "markdown",
   "metadata": {},
   "source": [
    "##### Method Overriding"
   ]
  },
  {
   "cell_type": "code",
   "execution_count": null,
   "metadata": {},
   "outputs": [],
   "source": [
    "# See Above"
   ]
  },
  {
   "cell_type": "markdown",
   "metadata": {},
   "source": [
    "## Classes as Attributes <br>\n",
    "<p>Classes can also be used as attributes within another class. This is useful in situations where you need to keep variables locally stored, instead of globally stored.</p>"
   ]
  },
  {
   "cell_type": "code",
   "execution_count": null,
   "metadata": {},
   "outputs": [],
   "source": []
  },
  {
   "cell_type": "markdown",
   "metadata": {},
   "source": [
    "# Exercises"
   ]
  },
  {
   "cell_type": "markdown",
   "metadata": {},
   "source": [
    "### Exercise 1 - Turn the shopping cart program from yesterday into an object-oriented program\n",
    "\n",
    "The comments in the cell below are there as a guide for thinking about the problem. However, if you feel a different way is best for you and your own thought process, please do what feels best for you by all means."
   ]
  },
  {
   "cell_type": "code",
   "execution_count": null,
   "metadata": {},
   "outputs": [],
   "source": []
  },
  {
   "cell_type": "code",
   "execution_count": 102,
   "metadata": {},
   "outputs": [
    {
     "name": "stdout",
     "output_type": "stream",
     "text": [
      "What would you like to do? You may add, remove, checkout, or quit quit\n"
     ]
    }
   ],
   "source": [
    "# Create a class called cart that retains items and has methods to add, remove, and show\n",
    "\n",
    "class Cart():\n",
    "    '''\n",
    "        The cart should take the following input types:\n",
    "        items: should be a list\n",
    "        checkout: should be a list\n",
    "        wheel: should be a string\n",
    "    '''\n",
    "    \n",
    "    def __init__(self, items = {}, checkout = []):\n",
    "        self.items = items\n",
    "        self.checkout = checkout\n",
    "    # method to figure which function to run\n",
    "    \n",
    "    def picker(self):\n",
    "        while True:\n",
    "            quick_cart = self.items\n",
    "            if len(quick_cart) < 1:\n",
    "                response = input('What would you like to do? You may add, remove, checkout, or quit ')\n",
    "                if response.lower() == 'add':\n",
    "                    Cart.add(self)\n",
    "                elif response.lower() == 'remove':\n",
    "                    Cart.remove(self)\n",
    "                elif response.lower() == 'checkout':\n",
    "                    Cart.checkout(self)\n",
    "                    break\n",
    "                elif response.lower() == 'quit':\n",
    "                    break\n",
    "                else:\n",
    "                    print('That is not a valid answer')\n",
    "            else:\n",
    "                print(f'Your Cart: {quick_cart}')\n",
    "                response = input('What would you like to do? You may add, remove, checkout, or quit ')\n",
    "                if response.lower() == 'add':\n",
    "                    Cart.add(self)\n",
    "                elif response.lower() == 'remove':\n",
    "                    Cart.remove(self)\n",
    "                elif response.lower() == 'checkout':\n",
    "                    Cart.checkout(self)\n",
    "                    break\n",
    "                elif response.lower() == 'quit':\n",
    "                    break\n",
    "                else:\n",
    "                    print('That is not a valid answer')\n",
    "    # method to add items\n",
    "    \n",
    "    def add(self):\n",
    "        cart = self.items\n",
    "        cart_space = len(cart)\n",
    "        if cart_space >= 10:\n",
    "            print('Your cart is full.')\n",
    "        else:\n",
    "            product = input('What would you like to add? ')\n",
    "            price = input(f'What is the cost of {product}?')\n",
    "            self.items[product] = float(price)\n",
    "        \n",
    "        \n",
    "    # method to remove items\n",
    "    \n",
    "    def remove(self):\n",
    "        removee = input('What should we remove? ')\n",
    "        removed_items = self.items.pop(removee)\n",
    "        print(f'Your remaining items are: {self.items}.')\n",
    "    \n",
    "    # method to checkout\n",
    "    \n",
    "    def checkout(self):\n",
    "        list_me_please = self.items.values()\n",
    "        total = sum(list_me_please)\n",
    "        decision = input(f'Your total is {total}. Would you like to pay now?')\n",
    "        if decision.lower() == 'yes':\n",
    "            print('Have a great day!')\n",
    "            response = 'quit'\n",
    "        else:\n",
    "            Cart.picker(self)\n",
    "\n",
    "def shop():\n",
    "    Fred_Meyer = Cart()\n",
    "    Fred_Meyer.picker()\n",
    "    \n",
    "shop()"
   ]
  },
  {
   "cell_type": "markdown",
   "metadata": {},
   "source": [
    "## Exercise 2 - Write a Python class which has two methods get_String and print_String. get_String accept a string from the user and print_String print the string in upper case"
   ]
  },
  {
   "cell_type": "code",
   "execution_count": 136,
   "metadata": {},
   "outputs": [
    {
     "name": "stdout",
     "output_type": "stream",
     "text": [
      "this is a silly function: hello\n",
      "HELLO\n"
     ]
    }
   ],
   "source": [
    "class Violins():\n",
    "    \n",
    "    def __init__(self, gift):\n",
    "        self.gift = gift\n",
    "    \n",
    "    def get_String(self):\n",
    "        not_gift = input('this is a silly function: ')\n",
    "        self.gift.append(not_gift)\n",
    "    \n",
    "    def print_String(self):\n",
    "        for i in self.gift:\n",
    "            print(i.upper())\n",
    "        \n",
    "def string_getter():\n",
    "    strings = Violins([])\n",
    "    strings.get_String()\n",
    "    strings.print_String()\n",
    "    \n",
    "string_getter()"
   ]
  },
  {
   "cell_type": "code",
   "execution_count": null,
   "metadata": {},
   "outputs": [],
   "source": []
  },
  {
   "cell_type": "code",
   "execution_count": null,
   "metadata": {},
   "outputs": [],
   "source": []
  }
 ],
 "metadata": {
  "kernelspec": {
   "display_name": "Python 3",
   "language": "python",
   "name": "python3"
  }
 },
 "nbformat": 4,
 "nbformat_minor": 2
}
